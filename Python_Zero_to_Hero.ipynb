{
  "nbformat": 4,
  "nbformat_minor": 0,
  "metadata": {
    "colab": {
      "name": "Python Zero to Hero.ipynb",
      "provenance": []
    },
    "kernelspec": {
      "name": "python3",
      "display_name": "Python 3"
    },
    "language_info": {
      "name": "python"
    }
  },
  "cells": [
    {
      "cell_type": "code",
      "metadata": {
        "colab": {
          "base_uri": "https://localhost:8080/"
        },
        "id": "jYvN2cy_tNZa",
        "outputId": "ff5c2cb8-e658-4ae2-fac8-5da7930142c5"
      },
      "source": [
        "a=b=c=20\n",
        "print(a,b,c)\n",
        "print(id(a))\n",
        "print(id(b))\n",
        "print(id(c))\n",
        "print(type(b))\n",
        "b=30\n",
        "print(a,b,c)\n",
        "print(id(a))\n",
        "print(id(b))\n",
        "print(id(c))"
      ],
      "execution_count": null,
      "outputs": [
        {
          "output_type": "stream",
          "text": [
            "20 20 20\n",
            "94772631186528\n",
            "94772631186528\n",
            "94772631186528\n",
            "<class 'int'>\n",
            "20 30 20\n",
            "94772631186528\n",
            "94772631186848\n",
            "94772631186528\n"
          ],
          "name": "stdout"
        }
      ]
    },
    {
      "cell_type": "code",
      "metadata": {
        "colab": {
          "base_uri": "https://localhost:8080/"
        },
        "id": "cS6fPsDuwi1v",
        "outputId": "29af8295-0c31-4033-a348-9efd96ee1ff7"
      },
      "source": [
        "#Summ Program\n",
        "\n",
        "x=int(input(\"x=\"))\n",
        "y=int(input(\"y=\"))\n",
        "sum = x+y\n",
        "print(sum)"
      ],
      "execution_count": null,
      "outputs": [
        {
          "output_type": "stream",
          "text": [
            "x=3\n",
            "y=5\n",
            "8\n"
          ],
          "name": "stdout"
        }
      ]
    },
    {
      "cell_type": "code",
      "metadata": {
        "colab": {
          "base_uri": "https://localhost:8080/"
        },
        "id": "4YQjLanhxAzP",
        "outputId": "48b5374d-5010-4d88-92e7-99da660439e2"
      },
      "source": [
        "#check type\n",
        "x=input(\"enter multiple values:\")\n",
        "print(x)\n",
        "print(type(x))"
      ],
      "execution_count": null,
      "outputs": [
        {
          "output_type": "stream",
          "text": [
            "enter multiple values:3 6 5 4 7 8 9 \n",
            "3 6 5 4 7 8 9 \n",
            "<class 'str'>\n"
          ],
          "name": "stdout"
        }
      ]
    },
    {
      "cell_type": "code",
      "metadata": {
        "colab": {
          "base_uri": "https://localhost:8080/"
        },
        "id": "LCUxeWIMxrTS",
        "outputId": "550b9293-62d7-436b-83c1-0da329e2208f"
      },
      "source": [
        "#split method\n",
        "x=input(\"enter multiple values:\")\n",
        "print(x)\n",
        "print(type(x))\n",
        "\n",
        "val = x.split()\n",
        "print(val)"
      ],
      "execution_count": null,
      "outputs": [
        {
          "output_type": "stream",
          "text": [
            "enter multiple values:2 3 6 5 4 7 8 9\n",
            "2 3 6 5 4 7 8 9\n",
            "<class 'str'>\n",
            "['2', '3', '6', '5', '4', '7', '8', '9']\n"
          ],
          "name": "stdout"
        }
      ]
    },
    {
      "cell_type": "code",
      "metadata": {
        "colab": {
          "base_uri": "https://localhost:8080/"
        },
        "id": "JIRyaA_QyLJY",
        "outputId": "0837df9b-72fa-487e-ecdf-429c4b792ee7"
      },
      "source": [
        "#reach each value\n",
        "#convert string to integer\n",
        "\n",
        "x=input(\"enter multiple values:\")\n",
        "print(x)\n",
        "print(type(x))\n",
        "\n",
        "val = [int (i) for i in x.split()]\n",
        "print(val)\n",
        "print(type(val))"
      ],
      "execution_count": null,
      "outputs": [
        {
          "output_type": "stream",
          "text": [
            "enter multiple values:5\n",
            "5\n",
            "<class 'str'>\n",
            "[5]\n",
            "<class 'list'>\n"
          ],
          "name": "stdout"
        }
      ]
    },
    {
      "cell_type": "code",
      "metadata": {
        "colab": {
          "base_uri": "https://localhost:8080/"
        },
        "id": "obi_xS-7zCbH",
        "outputId": "ba1f6200-d2a6-439a-e0ec-089006aaf377"
      },
      "source": [
        "#list\n",
        "li = [\"hello\", 21,2,53,6,65,4,8,\"boy\"]\n",
        "print(li)\n",
        "print(type(li))"
      ],
      "execution_count": null,
      "outputs": [
        {
          "output_type": "stream",
          "text": [
            "['hello', 21, 2, 53, 6, 65, 4, 8, 'boy']\n",
            "<class 'list'>\n"
          ],
          "name": "stdout"
        }
      ]
    },
    {
      "cell_type": "code",
      "metadata": {
        "colab": {
          "base_uri": "https://localhost:8080/"
        },
        "id": "l0X69jfN0BFI",
        "outputId": "2d1ef219-375c-4ec8-f5f5-d3c756a8a090"
      },
      "source": [
        "#sorting and reverse\n",
        "li=[1,5,3,9,7,4,5,22,33,64,12]\n",
        "li.sort()\n",
        "print(li)\n",
        "\n",
        "li.reverse()\n",
        "print(li)"
      ],
      "execution_count": null,
      "outputs": [
        {
          "output_type": "stream",
          "text": [
            "[1, 3, 4, 5, 5, 7, 9, 12, 22, 33, 64]\n",
            "[64, 33, 22, 12, 9, 7, 5, 5, 4, 3, 1]\n"
          ],
          "name": "stdout"
        }
      ]
    },
    {
      "cell_type": "code",
      "metadata": {
        "colab": {
          "base_uri": "https://localhost:8080/"
        },
        "id": "x6LHm-9g0f_k",
        "outputId": "600fb9be-e7b4-43ca-8f63-954ec979a03d"
      },
      "source": [
        "#slicing(print selected number from index)\n",
        "\n",
        "li=[1,5,6,7,8,9,5,4,5,7]\n",
        "print(li[0:3])\n",
        "print(li[ :4])\n",
        "print(li[3: ])\n",
        "print(li[:]) #[start:end]\n",
        "print(li[-3])#print from right to left"
      ],
      "execution_count": null,
      "outputs": [
        {
          "output_type": "stream",
          "text": [
            "[1, 5, 6]\n",
            "[1, 5, 6, 7]\n",
            "[7, 8, 9, 5, 4, 5, 7]\n",
            "[1, 5, 6, 7, 8, 9, 5, 4, 5, 7]\n",
            "4\n"
          ],
          "name": "stdout"
        }
      ]
    },
    {
      "cell_type": "code",
      "metadata": {
        "colab": {
          "base_uri": "https://localhost:8080/"
        },
        "id": "RdtzexQ_uevi",
        "outputId": "3989aef6-50f9-4f53-e060-eb874069e5bc"
      },
      "source": [
        "li=[1,5,6,7,8,9,5,4,5,7]\n",
        "print(li[0:3:1]) #strt:end:step\n",
        "print(li[0:5:2])#step skips the index \n",
        "print(li[::3]) \n",
        "print(li[::-1]) #list in reveese order"
      ],
      "execution_count": null,
      "outputs": [
        {
          "output_type": "stream",
          "text": [
            "[1, 5, 6]\n",
            "[1, 6, 8]\n",
            "[1, 7, 5, 7]\n",
            "[7, 5, 4, 5, 9, 8, 7, 6, 5, 1]\n"
          ],
          "name": "stdout"
        }
      ]
    },
    {
      "cell_type": "code",
      "metadata": {
        "colab": {
          "base_uri": "https://localhost:8080/"
        },
        "id": "jb2mDVlSzC9N",
        "outputId": "25c04204-e9a0-40a2-867f-2745adefc2d7"
      },
      "source": [
        "#sort in decending order\n",
        "li=[int(i) for i in input(\"Enter the list values : \").split()]\n",
        "li.sort(reverse=True)\n",
        "print(\"Decending sorted list = \" , li)\n"
      ],
      "execution_count": null,
      "outputs": [
        {
          "output_type": "stream",
          "text": [
            "Enter the list values : 2 6 2 1 2 3 5\n",
            "Decending sorted list =  [6, 5, 3, 2, 2, 2, 1]\n"
          ],
          "name": "stdout"
        }
      ]
    },
    {
      "cell_type": "code",
      "metadata": {
        "id": "ZI0aeAcI3JKl",
        "colab": {
          "base_uri": "https://localhost:8080/"
        },
        "outputId": "a97101b5-1f02-4ed6-fd0b-fdec4ba360d6"
      },
      "source": [
        "#repetition in list\n",
        "li=[1,5,6,7,8]\n",
        "print(li*4)"
      ],
      "execution_count": null,
      "outputs": [
        {
          "output_type": "stream",
          "text": [
            "[1, 5, 6, 7, 8, 1, 5, 6, 7, 8, 1, 5, 6, 7, 8, 1, 5, 6, 7, 8]\n"
          ],
          "name": "stdout"
        }
      ]
    },
    {
      "cell_type": "code",
      "metadata": {
        "colab": {
          "base_uri": "https://localhost:8080/"
        },
        "id": "IFnrI_72vuCv",
        "outputId": "a8495561-f3a7-461e-bb31-cfebb8fa11f1"
      },
      "source": [
        "#concatenation\n",
        "first = [1,2,6]\n",
        "last = [3,5,4] \n",
        "print (first+last)"
      ],
      "execution_count": null,
      "outputs": [
        {
          "output_type": "stream",
          "text": [
            "[1, 2, 6, 3, 5, 4]\n"
          ],
          "name": "stdout"
        }
      ]
    },
    {
      "cell_type": "code",
      "metadata": {
        "colab": {
          "base_uri": "https://localhost:8080/"
        },
        "id": "ZcELO6ABwB58",
        "outputId": "259b2464-85dc-479c-be22-8e07afd0bca1"
      },
      "source": [
        "#membership\n",
        "li=[1,3,4,5,55,87,64,53]\n",
        "print(35 in li)"
      ],
      "execution_count": null,
      "outputs": [
        {
          "output_type": "stream",
          "text": [
            "False\n"
          ],
          "name": "stdout"
        }
      ]
    },
    {
      "cell_type": "code",
      "metadata": {
        "colab": {
          "base_uri": "https://localhost:8080/"
        },
        "id": "xW_H4svNwRca",
        "outputId": "cf54c876-e522-47e7-c1ab-2927aba96203"
      },
      "source": [
        "#iteration\n",
        "li=[1,3,4,5,55,87,64,53]\n",
        "for i in li:\n",
        "  print (i)\n",
        "  print (3 in li)\n",
        "  #print (i, end = \"\" )\n"
      ],
      "execution_count": null,
      "outputs": [
        {
          "output_type": "stream",
          "text": [
            "1\n",
            "True\n",
            "3\n",
            "True\n",
            "4\n",
            "True\n",
            "5\n",
            "True\n",
            "55\n",
            "True\n",
            "87\n",
            "True\n",
            "64\n",
            "True\n",
            "53\n",
            "True\n"
          ],
          "name": "stdout"
        }
      ]
    },
    {
      "cell_type": "code",
      "metadata": {
        "colab": {
          "base_uri": "https://localhost:8080/"
        },
        "id": "zHMgPyQ5xoBH",
        "outputId": "cf54c876-e522-47e7-c1ab-2927aba96203"
      },
      "source": [
        "#iteration\n",
        "li=[1,3,4,5,55,87,64,53]\n",
        "for i in li:\n",
        "  print (i)\n",
        "  print (3 in li)\n",
        "  #print (i, end = \"\" )\n"
      ],
      "execution_count": null,
      "outputs": [
        {
          "output_type": "stream",
          "text": [
            "1\n",
            "True\n",
            "3\n",
            "True\n",
            "4\n",
            "True\n",
            "5\n",
            "True\n",
            "55\n",
            "True\n",
            "87\n",
            "True\n",
            "64\n",
            "True\n",
            "53\n",
            "True\n"
          ],
          "name": "stdout"
        }
      ]
    },
    {
      "cell_type": "code",
      "metadata": {
        "colab": {
          "base_uri": "https://localhost:8080/"
        },
        "id": "GaDp7mfjxgz-",
        "outputId": "14ce2063-4e2c-4961-cb66-8a198362ff96"
      },
      "source": [
        "#add element (append method)\n",
        "li=[1,3,4,5,55,87,64,53]\n",
        "li.append(2)\n",
        "print (li)\n"
      ],
      "execution_count": null,
      "outputs": [
        {
          "output_type": "stream",
          "text": [
            "[1, 3, 4, 5, 55, 87, 64, 53, 2]\n"
          ],
          "name": "stdout"
        }
      ]
    },
    {
      "cell_type": "code",
      "metadata": {
        "colab": {
          "base_uri": "https://localhost:8080/"
        },
        "id": "hRnR7KXMx7A0",
        "outputId": "30138b29-c4de-402d-b5f3-a2f17acbb354"
      },
      "source": [
        "#Pop and delete method\n",
        "li=[1,3,4,5,55,87,64,53]\n",
        "li.append(2)\n",
        "print (li)\n",
        "li.pop(3)#delete index\n",
        "print (li)\n",
        "li.remove(3)#deletes number\n",
        "print (li)"
      ],
      "execution_count": null,
      "outputs": [
        {
          "output_type": "stream",
          "text": [
            "[1, 3, 4, 5, 55, 87, 64, 53, 2]\n",
            "[1, 3, 4, 55, 87, 64, 53, 2]\n",
            "[1, 4, 55, 87, 64, 53, 2]\n"
          ],
          "name": "stdout"
        }
      ]
    },
    {
      "cell_type": "code",
      "metadata": {
        "colab": {
          "base_uri": "https://localhost:8080/"
        },
        "id": "nUjZVE6fyox_",
        "outputId": "57ff87bd-5d45-4771-8cc0-d59cd57d8552"
      },
      "source": [
        "#insert (index, number)\n",
        "li=[1,3,4,5,55,87,64,53]\n",
        "li.insert(3,7)\n",
        "print (li)"
      ],
      "execution_count": null,
      "outputs": [
        {
          "output_type": "stream",
          "text": [
            "[1, 3, 4, 7, 5, 55, 87, 64, 53]\n"
          ],
          "name": "stdout"
        }
      ]
    },
    {
      "cell_type": "code",
      "metadata": {
        "id": "0_5Nw6WszIF9"
      },
      "source": [
        "#delete list\n",
        "li=[1,3,4,5,55,87,64,53]\n",
        "del li"
      ],
      "execution_count": null,
      "outputs": []
    },
    {
      "cell_type": "code",
      "metadata": {
        "colab": {
          "base_uri": "https://localhost:8080/"
        },
        "id": "sESY738czUoL",
        "outputId": "8abc7a6e-6118-426a-df47-a0847e185c19"
      },
      "source": [
        "#count number\n",
        "li=[1,3,4,5,55,4,4,87,64,53]\n",
        "print (li.count(4))\n",
        "print (li.index(55))#index position of 55\n"
      ],
      "execution_count": null,
      "outputs": [
        {
          "output_type": "stream",
          "text": [
            "3\n",
            "4\n"
          ],
          "name": "stdout"
        }
      ]
    },
    {
      "cell_type": "code",
      "metadata": {
        "id": "X-R00mh40V28"
      },
      "source": [
        "#Assignment2 - remove all occurances of an element from a list\n"
      ],
      "execution_count": null,
      "outputs": []
    },
    {
      "cell_type": "code",
      "metadata": {
        "colab": {
          "base_uri": "https://localhost:8080/"
        },
        "id": "Q-8gEBtu0hKE",
        "outputId": "da55af89-5b5a-4c3f-d376-183e739e5f14"
      },
      "source": [
        "#Tuple(can contain multiple data type) -immutable\n",
        "#method - count() & -index()\n",
        "t= (1,2,3,\"hello\",10.30)\n",
        "print (t)\n",
        "print(type(t))"
      ],
      "execution_count": null,
      "outputs": [
        {
          "output_type": "stream",
          "text": [
            "(1, 2, 3, 'hello', 10.3)\n",
            "<class 'tuple'>\n"
          ],
          "name": "stdout"
        }
      ]
    },
    {
      "cell_type": "code",
      "metadata": {
        "colab": {
          "base_uri": "https://localhost:8080/"
        },
        "id": "Ynbe5Nkp1d7K",
        "outputId": "b58fc46d-9f6f-4cc7-9b6b-755ac12d126b"
      },
      "source": [
        "li = [2]\n",
        "print(type(li))\n",
        "\n",
        "tup = (10)\n",
        "print(type(tup))\n",
        "\n",
        "tup = (10,)#tuple with 1 element need a ','\n",
        "print(type(tup))"
      ],
      "execution_count": null,
      "outputs": [
        {
          "output_type": "stream",
          "text": [
            "<class 'list'>\n",
            "<class 'int'>\n",
            "<class 'tuple'>\n"
          ],
          "name": "stdout"
        }
      ]
    },
    {
      "cell_type": "code",
      "metadata": {
        "colab": {
          "base_uri": "https://localhost:8080/"
        },
        "id": "XhvnjGTb2fAp",
        "outputId": "d30ba07b-874d-47e7-bbcb-7ba42213bb28"
      },
      "source": [
        "#create set\n",
        "set = {1,5,3,6,2,4,4} #unorder & save unique numbers\n",
        "print(set)\n",
        "print(type(set))\n",
        "\n",
        "li = [1,2,3,4,5,6]#order\n",
        "print(li)\n",
        "\n"
      ],
      "execution_count": null,
      "outputs": [
        {
          "output_type": "stream",
          "text": [
            "{1, 2, 3, 4, 5, 6}\n",
            "<class 'set'>\n",
            "[1, 2, 3, 4, 5, 6]\n"
          ],
          "name": "stdout"
        }
      ]
    },
    {
      "cell_type": "code",
      "metadata": {
        "colab": {
          "base_uri": "https://localhost:8080/"
        },
        "id": "gt6_esgM3gcT",
        "outputId": "a69f6610-ba52-4872-e327-937e8776652e"
      },
      "source": [
        "#set subtraction (delete common number)\n",
        "num1={1,5,3,20}\n",
        "num2={1,5,3,10}\n",
        "print(num1-num2)\n",
        "print(num1&num2)#set intersection(common)\n",
        "print(num1.union(num2))#set Union"
      ],
      "execution_count": null,
      "outputs": [
        {
          "output_type": "stream",
          "text": [
            "{20}\n",
            "{1, 3, 5}\n",
            "{1, 3, 5, 10, 20}\n"
          ],
          "name": "stdout"
        }
      ]
    },
    {
      "cell_type": "code",
      "metadata": {
        "colab": {
          "base_uri": "https://localhost:8080/"
        },
        "id": "JJBlpxsX4G1f",
        "outputId": "0329e38a-335b-4dae-d20e-d919ad90a2b3"
      },
      "source": [
        "#dictionary\n",
        "details= {\"name\":\"harry\",\"age\":15, \"power\" : \"magic\"}\n",
        "print(details)\n",
        "print(details.get(\"age\"))#get method\n",
        "print(details['age'])\n",
        "print(details.get(\"pet\"))\n",
        "print(details.get(\"age\",0))\n",
        "print(details.keys())\n",
        "print(details.values())\n",
        "print(details.items())\n",
        "print(type(details))"
      ],
      "execution_count": null,
      "outputs": [
        {
          "output_type": "stream",
          "text": [
            "{'name': 'harry', 'age': 15, 'power': 'magic'}\n",
            "15\n",
            "15\n",
            "None\n",
            "15\n",
            "dict_keys(['name', 'age', 'power'])\n",
            "dict_values(['harry', 15, 'magic'])\n",
            "dict_items([('name', 'harry'), ('age', 15), ('power', 'magic')])\n",
            "<class 'dict'>\n"
          ],
          "name": "stdout"
        }
      ]
    },
    {
      "cell_type": "code",
      "metadata": {
        "colab": {
          "base_uri": "https://localhost:8080/"
        },
        "id": "oUUJY3X46Xv8",
        "outputId": "a189256c-e37c-4814-87bc-50561aad470b"
      },
      "source": [
        "#square root using modules\n",
        "import math\n",
        "num = 64\n",
        "print(math.sqrt(64))\n",
        "print(math.pow(2,5))"
      ],
      "execution_count": null,
      "outputs": [
        {
          "output_type": "stream",
          "text": [
            "8.0\n",
            "32.0\n"
          ],
          "name": "stdout"
        }
      ]
    },
    {
      "cell_type": "code",
      "metadata": {
        "colab": {
          "base_uri": "https://localhost:8080/"
        },
        "id": "JGa9v07e5-pW",
        "outputId": "e8e56731-d37c-46a8-a4fb-3fce183fcc96"
      },
      "source": [
        "#project - generating 6 character OTP\n",
        "\n",
        "import random as r\n",
        "import string\n",
        "length = 6\n",
        "otp = \"\"\n",
        "characters = string.ascii_letters+string.digits\n",
        "print(characters)\n",
        "\n",
        "for i in range(length):\n",
        "  otp=otp+r.choice(characters)\n",
        "\n",
        "print (\"OTP: \", otp)\n"
      ],
      "execution_count": null,
      "outputs": [
        {
          "output_type": "stream",
          "text": [
            "abcdefghijklmnopqrstuvwxyzABCDEFGHIJKLMNOPQRSTUVWXYZ0123456789\n",
            "OTP:  7U4t55\n"
          ],
          "name": "stdout"
        }
      ]
    },
    {
      "cell_type": "code",
      "metadata": {
        "colab": {
          "base_uri": "https://localhost:8080/"
        },
        "id": "Aqx9_bdG8-xh",
        "outputId": "f672e0ff-fa92-44b3-db35-e9dee65db4dd"
      },
      "source": [
        "#generate random characters\n",
        "import random as r\n",
        "print(r.randint(0, 10))#include 0,10\n",
        "print(r.randrange(0, 10))#dont include 0,10\n",
        "print(r.random())  #any random number b/w 0to1\n"
      ],
      "execution_count": null,
      "outputs": [
        {
          "output_type": "stream",
          "text": [
            "10\n",
            "4\n",
            "0.44034072233060606\n"
          ],
          "name": "stdout"
        }
      ]
    },
    {
      "cell_type": "code",
      "metadata": {
        "colab": {
          "base_uri": "https://localhost:8080/"
        },
        "id": "iX71vk8L-D0p",
        "outputId": "24df8bcc-cff8-43ab-c8c4-3567831a12f8"
      },
      "source": [
        "#assignment3 - Check whether string is pangram\n",
        "\n",
        "import string\n",
        "  \n",
        "alphabet = set(string.ascii_lowercase)\n",
        "  \n",
        "def ispangram(str):\n",
        "     return not set(alphabet) - set(str)\n",
        "      \n",
        "# Driver code\n",
        "string = 'the quick brown fox jumps over the lazy dog'\n",
        "if(ispangram(string) == True):\n",
        "    print(\"Yes\")\n",
        "else:\n",
        "    print(\"No\")"
      ],
      "execution_count": 1,
      "outputs": [
        {
          "output_type": "stream",
          "text": [
            "Yes\n"
          ],
          "name": "stdout"
        }
      ]
    },
    {
      "cell_type": "code",
      "metadata": {
        "id": "L1JwaOZA-EHK"
      },
      "source": [
        "#conditional statements\n",
        "amt = int(input(\"enter amount: \"))\n",
        "if amt>=10:\n",
        "  print(\"chai+biscuit\")\n",
        "elif amt>=5:\n",
        "  print(\"chai\")\n",
        "else:\n",
        "  print(\"cashout money\")"
      ],
      "execution_count": null,
      "outputs": []
    },
    {
      "cell_type": "code",
      "metadata": {
        "id": "WMIT8Ugdr4Go"
      },
      "source": [
        "#loops (only \"for\" and \"while\" loop in python)\n",
        "#initialisation, condition checking, updaation of counter/loop varible\n",
        "\n",
        "i=1 #loop variable\n",
        "while i <=10:\n",
        "  print(\"Helios300\", end = \" \")\n",
        "  i=i+1\n"
      ],
      "execution_count": null,
      "outputs": []
    },
    {
      "cell_type": "code",
      "metadata": {
        "colab": {
          "base_uri": "https://localhost:8080/"
        },
        "id": "Hif55a1ts_hR",
        "outputId": "f5d97484-9ae4-4a2b-8e3c-38aafcba7c93"
      },
      "source": [
        "#for loop\n",
        "for i in range(1,11):\n",
        "  print('5', end=\" \")\n"
      ],
      "execution_count": 13,
      "outputs": [
        {
          "output_type": "stream",
          "text": [
            "5 5 5 5 5 5 5 5 5 5 "
          ],
          "name": "stdout"
        }
      ]
    },
    {
      "cell_type": "code",
      "metadata": {
        "colab": {
          "base_uri": "https://localhost:8080/"
        },
        "id": "ceC2Vh6itgol",
        "outputId": "bb69c95b-c8f8-4362-8c73-340d1a905d40"
      },
      "source": [
        "city=\"bangalore\"\n",
        "for i in city:\n",
        "  print(i, end=\",\")"
      ],
      "execution_count": 15,
      "outputs": [
        {
          "output_type": "stream",
          "text": [
            "b,a,n,g,a,l,o,r,e,"
          ],
          "name": "stdout"
        }
      ]
    },
    {
      "cell_type": "code",
      "metadata": {
        "colab": {
          "base_uri": "https://localhost:8080/"
        },
        "id": "L4qngEfRtvNu",
        "outputId": "c2d97d5d-1fd2-4931-8ab6-e1b69a7c9810"
      },
      "source": [
        "x = int(input(\"enter 1st value: \"))\n",
        "y = int(input(\"enter 2nd value: \"))\n",
        "\n",
        "res= x**y\n",
        "\n",
        "print(\"result = \", res)\n",
        "print(f\"Result = {res}\")"
      ],
      "execution_count": 16,
      "outputs": [
        {
          "output_type": "stream",
          "text": [
            "enter 1st value: 2\n",
            "enter 2nd value: 3\n",
            "result =  8\n",
            "Result = 8\n"
          ],
          "name": "stdout"
        }
      ]
    },
    {
      "cell_type": "code",
      "metadata": {
        "colab": {
          "base_uri": "https://localhost:8080/"
        },
        "id": "ibuxGbYCunYy",
        "outputId": "6ca5ee8b-d6c2-4b48-bfe5-b2878cea8fe6"
      },
      "source": [
        "#functions and decorators\n",
        "def sum(a, b):\n",
        " return a+b\n",
        "\n",
        "x = 10\n",
        "y = 20\n",
        "print(sum(x, y)) "
      ],
      "execution_count": 19,
      "outputs": [
        {
          "output_type": "stream",
          "text": [
            "30\n"
          ],
          "name": "stdout"
        }
      ]
    },
    {
      "cell_type": "code",
      "metadata": {
        "colab": {
          "base_uri": "https://localhost:8080/"
        },
        "id": "0QmbmWmKvnGh",
        "outputId": "e898582a-79ea-4d01-b9bd-d69a958f11db"
      },
      "source": [
        "#define function\n",
        "def fun():\n",
        "  print(\"In the function\")\n",
        "fun()"
      ],
      "execution_count": 20,
      "outputs": [
        {
          "output_type": "stream",
          "text": [
            "In the function\n"
          ],
          "name": "stdout"
        }
      ]
    },
    {
      "cell_type": "code",
      "metadata": {
        "colab": {
          "base_uri": "https://localhost:8080/"
        },
        "id": "7sv7pbYNvneY",
        "outputId": "bb90552e-c040-4c30-bed9-1912d0e10d72"
      },
      "source": [
        "def fun(name):\n",
        "  print(\"hello\",name)\n",
        "\n",
        "fun(\"Vamsi\")\n",
        "fun(\"Vai\")\n",
        "fun(\"si\")"
      ],
      "execution_count": 24,
      "outputs": [
        {
          "output_type": "stream",
          "text": [
            "hello Vamsi\n",
            "hello Vai\n",
            "hello si\n"
          ],
          "name": "stdout"
        }
      ]
    },
    {
      "cell_type": "code",
      "metadata": {
        "colab": {
          "base_uri": "https://localhost:8080/"
        },
        "id": "I6QAG2eIwNys",
        "outputId": "ec06b914-bd56-4e3e-e061-6d0da56c20e0"
      },
      "source": [
        "#decorators\n",
        "\n",
        "#decorator \n",
        "def mod_sub(fun): #fun ~ sub\n",
        "  def inner(a, b):\n",
        "    if a < b :\n",
        "      a, b = b, a\n",
        "    fun(a, b)\n",
        "  return inner\n",
        "\n",
        "#sub = mod_sub(sub) #sub ~ inner\n",
        "\n",
        "@mod_sub\n",
        "def sub(a,b):\n",
        "  #if a<b:\n",
        "   # a,b = b,a\n",
        "  print(a - b)\n",
        "\n",
        "sub(33, 20)"
      ],
      "execution_count": 34,
      "outputs": [
        {
          "output_type": "stream",
          "text": [
            "13\n"
          ],
          "name": "stdout"
        }
      ]
    },
    {
      "cell_type": "code",
      "metadata": {
        "id": "I26I6cVETbMg"
      },
      "source": [
        "#person list\n",
        "list = [2,1,5,3,4] #list of gifts given to person\n",
        "\n",
        "#1st person gives gift to person 2\n",
        "#2nd person gives gift to person 1\n",
        "\n",
        "print the list of person from whom they have received the gifts.\n",
        "required output: [2, 1, 4, 5, 3]\n"
      ],
      "execution_count": null,
      "outputs": []
    },
    {
      "cell_type": "code",
      "metadata": {
        "colab": {
          "base_uri": "https://localhost:8080/"
        },
        "cellView": "code",
        "id": "-8S-O08tVOBT",
        "outputId": "947d9056-a2c5-4e5f-cfc8-e8dd261dcc80"
      },
      "source": [
        "#@title Default title text\n",
        "# Assignment 4 (Final Project)\n",
        "# Temprature Converter\n",
        "\n",
        "print(\"Welcome to the Temperature Converter\")\n",
        "\n",
        "temp = eval(input(\"Enter the Temperature : \"))\n",
        "converted_temp = (temp * 9/5) + 32\n",
        "\n",
        "print(\"Temperature Entered           : \",temp,'\\N{DEGREE SIGN}C')\n",
        "print(\"Converted Temperature is : \",converted_temp,'\\N{DEGREE SIGN}F')"
      ],
      "execution_count": 35,
      "outputs": [
        {
          "output_type": "stream",
          "text": [
            "Welcome to the Temperature Converter\n",
            "Enter the Temperature : 23\n",
            "Temperature Entered           :  23 °C\n",
            "Converted Temperature is :  73.4 °F\n"
          ],
          "name": "stdout"
        }
      ]
    }
  ]
}